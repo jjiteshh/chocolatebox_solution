{
 "cells": [
  {
   "cell_type": "markdown",
   "metadata": {},
   "source": [
    "### Problem to detect chocolates in correct place,  As we can observer the in chocolate box the chocolates are not in grid structure and have 5 items in first 2 rows and 4 items in last 3 rows. This makes the problem slightly challenging.\n",
    "\n",
    "\n",
    "### Solution:  We wil first identify the mid-point of the given x y position of each chocolate. Then we will find the relative y distance from the first chocolate. This will help us cluster the chocolates in 5 rows. Then we will sort it based on X co ordinate \n",
    "\n",
    "### Once we have the order we will compare with our expected order and output the error if any.\n",
    "\n",
    "--Jitesh Ganage \n",
    "jjiteshh@gmail.com"
   ]
  },
  {
   "cell_type": "code",
   "execution_count": 269,
   "metadata": {},
   "outputs": [],
   "source": [
    "detections = [{\"x0\": 304.0, \"y0\": 886.0, \"x1\": 758.0, \"y1\": 1256.0, \"class_name\": \"Crunchy Toffee\"}, {\"x0\": 918.0, \"y0\": 881.0, \"x1\": 1267.0, \"y1\": 1251.0, \"class_name\": \"Signature Caramel\"}, {\"x0\": 1425.0, \"y0\": 878.0, \"x1\": 1766.0, \"y1\": 1248.0, \"class_name\": \"Signature Caramel\"}, {\"x0\": 1895.0, \"y0\": 887.0, \"x1\": 2222.0, \"y1\": 1206.0, \"class_name\": \"Chocolate Orange Creme Crunch\"}, {\"x0\": 2346.0, \"y0\": 887.0, \"x1\": 2662.0, \"y1\": 1184.0, \"class_name\": \"Chocolate Orange Creme Crunch\"}, {\"x0\": 321.0, \"y0\": 1420.0, \"x1\": 771.0, \"y1\": 1784.0, \"class_name\": \"Crunchy Toffee\"}, {\"x0\": 938.0, \"y0\": 1412.0, \"x1\": 1301.0, \"y1\": 1784.0, \"class_name\": \"Signature Caramel\"}, {\"x0\": 1454.0, \"y0\": 1422.0, \"x1\": 1797.0, \"y1\": 1785.0, \"class_name\": \"Signature Caramel\"}, {\"x0\": 1924.0, \"y0\": 1384.0, \"x1\": 2203.0, \"y1\": 1836.0, \"class_name\": \"Turkish Delight\"}, {\"x0\": 2369.0, \"y0\": 1331.0, \"x1\": 2660.0, \"y1\": 1768.0, \"class_name\": \"Turkish Delight\"}, {\"x0\": 397.0, \"y0\": 1963.0, \"x1\": 832.0, \"y1\": 2361.0, \"class_name\": \"Vanilla Frappe\"}, {\"x0\": 1063.0, \"y0\": 1941.0, \"x1\": 1466.0, \"y1\": 2335.0, \"class_name\": \"Golden Fudge\"}, {\"x0\": 1666.0, \"y0\": 1933.0, \"x1\": 2051.0, \"y1\": 2298.0, \"class_name\": \"Vanilla Frappe\"}, {\"x0\": 2262.0, \"y0\": 1892.0, \"x1\": 2686.0, \"y1\": 2313.0, \"class_name\": \"Golden Fudge\"}, {\"x0\": 371.0, \"y0\": 2517.0, \"x1\": 858.0, \"y1\": 2820.0, \"class_name\": \"Coconut\"}, {\"x0\": 1120.0, \"y0\": 2456.0, \"x1\": 1453.0, \"y1\": 2806.0, \"class_name\": \"Lemon Creme\"}, {\"x0\": 1681.0, \"y0\": 2443.0, \"x1\": 2031.0, \"y1\": 2801.0, \"class_name\": \"Lemon Creme\"}, {\"x0\": 2235.0, \"y0\": 2407.0, \"x1\": 2725.0, \"y1\": 2789.0, \"class_name\": \"White Chocolate and Vanilla\"}, {\"x0\": 346.0, \"y0\": 2954.0, \"x1\": 877.0, \"y1\": 3262.0, \"class_name\": \"Coconut\"}, {\"x0\": 1118.0, \"y0\": 2899.0, \"x1\": 1459.0, \"y1\": 3262.0, \"class_name\": \"Hazelnut Praline\"}, {\"x0\": 1685.0, \"y0\": 2896.0, \"x1\": 2043.0, \"y1\": 3247.0, \"class_name\": \"Hazelnut Praline\"}, {\"x0\": 2248.0, \"y0\": 2871.0, \"x1\": 2736.0, \"y1\": 3259.0, \"class_name\": \"White Chocolate and Vanilla\"}]"
   ]
  },
  {
   "cell_type": "code",
   "execution_count": 270,
   "metadata": {},
   "outputs": [
    {
     "data": {
      "text/plain": [
       "22"
      ]
     },
     "execution_count": 270,
     "metadata": {},
     "output_type": "execute_result"
    }
   ],
   "source": [
    "len(detections)"
   ]
  },
  {
   "cell_type": "code",
   "execution_count": 271,
   "metadata": {},
   "outputs": [],
   "source": [
    "expected_order = [\n",
    "    [\"Crunchy Toffee\", \"Signature Caramel\", \"Signature Caramel\", \"Chocolate Orange Creme Crunch\", \"Chocolate Orange Creme Crunch\"],\n",
    "    [\"Crunchy Toffee\", \"Signature Caramel\", \"Signature Caramel\", \"Turkish Delight\", \"Turkish Delight\"],\n",
    "    [\"Vanilla Frappe\", \"Vanilla Frappe\", \"Golden Fudge\", \"Golden Fudge\"],\n",
    "    [\"Coconut\", \"Lemon Creme\", \"Lemon Creme\", \"White Chocolate and Vanilla\"],\n",
    "    [\"Coconut\", \"Hazelnut Praline\", \"Hazelnut Praline\", \"White Chocolate and Vanilla\"],\n",
    "]"
   ]
  },
  {
   "cell_type": "markdown",
   "metadata": {},
   "source": [
    "## Find mid-point of each chocolate"
   ]
  },
  {
   "cell_type": "code",
   "execution_count": 272,
   "metadata": {},
   "outputs": [
    {
     "name": "stdout",
     "output_type": "stream",
     "text": [
      "[{'midpoint': (531.0, 1071.0), 'class_name': 'Crunchy Toffee'}, {'midpoint': (1092.5, 1066.0), 'class_name': 'Signature Caramel'}, {'midpoint': (1595.5, 1063.0), 'class_name': 'Signature Caramel'}, {'midpoint': (2058.5, 1046.5), 'class_name': 'Chocolate Orange Creme Crunch'}, {'midpoint': (2504.0, 1035.5), 'class_name': 'Chocolate Orange Creme Crunch'}, {'midpoint': (546.0, 1602.0), 'class_name': 'Crunchy Toffee'}, {'midpoint': (1119.5, 1598.0), 'class_name': 'Signature Caramel'}, {'midpoint': (1625.5, 1603.5), 'class_name': 'Signature Caramel'}, {'midpoint': (2063.5, 1610.0), 'class_name': 'Turkish Delight'}, {'midpoint': (2514.5, 1549.5), 'class_name': 'Turkish Delight'}, {'midpoint': (614.5, 2162.0), 'class_name': 'Vanilla Frappe'}, {'midpoint': (1264.5, 2138.0), 'class_name': 'Golden Fudge'}, {'midpoint': (1858.5, 2115.5), 'class_name': 'Vanilla Frappe'}, {'midpoint': (2474.0, 2102.5), 'class_name': 'Golden Fudge'}, {'midpoint': (614.5, 2668.5), 'class_name': 'Coconut'}, {'midpoint': (1286.5, 2631.0), 'class_name': 'Lemon Creme'}, {'midpoint': (1856.0, 2622.0), 'class_name': 'Lemon Creme'}, {'midpoint': (2480.0, 2598.0), 'class_name': 'White Chocolate and Vanilla'}, {'midpoint': (611.5, 3108.0), 'class_name': 'Coconut'}, {'midpoint': (1288.5, 3080.5), 'class_name': 'Hazelnut Praline'}, {'midpoint': (1864.0, 3071.5), 'class_name': 'Hazelnut Praline'}, {'midpoint': (2492.0, 3065.0), 'class_name': 'White Chocolate and Vanilla'}]\n"
     ]
    }
   ],
   "source": [
    "def find_midpoints(data_list):\n",
    "    midpoints = []\n",
    "    for item in data_list:\n",
    "        x0, y0, x1, y1 = item[\"x0\"], item[\"y0\"], item[\"x1\"], item[\"y1\"]\n",
    "        class_name = item[\"class_name\"]\n",
    "        xm = (x0 + x1) / 2\n",
    "        ym = (y0 + y1) / 2\n",
    "        midpoints.append({\"midpoint\": (xm, ym), \"class_name\": class_name})\n",
    "    return midpoints\n",
    "\n",
    "midpoints = find_midpoints(detections)\n",
    "print(midpoints)"
   ]
  },
  {
   "cell_type": "code",
   "execution_count": 273,
   "metadata": {},
   "outputs": [
    {
     "name": "stdout",
     "output_type": "stream",
     "text": [
      "[{'midpoint': (2504.0, 1035.5), 'class_name': 'Chocolate Orange Creme Crunch'}, {'midpoint': (2058.5, 1046.5), 'class_name': 'Chocolate Orange Creme Crunch'}, {'midpoint': (1595.5, 1063.0), 'class_name': 'Signature Caramel'}, {'midpoint': (1092.5, 1066.0), 'class_name': 'Signature Caramel'}, {'midpoint': (531.0, 1071.0), 'class_name': 'Crunchy Toffee'}, {'midpoint': (2514.5, 1549.5), 'class_name': 'Turkish Delight'}, {'midpoint': (1119.5, 1598.0), 'class_name': 'Signature Caramel'}, {'midpoint': (546.0, 1602.0), 'class_name': 'Crunchy Toffee'}, {'midpoint': (1625.5, 1603.5), 'class_name': 'Signature Caramel'}, {'midpoint': (2063.5, 1610.0), 'class_name': 'Turkish Delight'}, {'midpoint': (2474.0, 2102.5), 'class_name': 'Golden Fudge'}, {'midpoint': (1858.5, 2115.5), 'class_name': 'Vanilla Frappe'}, {'midpoint': (1264.5, 2138.0), 'class_name': 'Golden Fudge'}, {'midpoint': (614.5, 2162.0), 'class_name': 'Vanilla Frappe'}, {'midpoint': (2480.0, 2598.0), 'class_name': 'White Chocolate and Vanilla'}, {'midpoint': (1856.0, 2622.0), 'class_name': 'Lemon Creme'}, {'midpoint': (1286.5, 2631.0), 'class_name': 'Lemon Creme'}, {'midpoint': (614.5, 2668.5), 'class_name': 'Coconut'}, {'midpoint': (2492.0, 3065.0), 'class_name': 'White Chocolate and Vanilla'}, {'midpoint': (1864.0, 3071.5), 'class_name': 'Hazelnut Praline'}, {'midpoint': (1288.5, 3080.5), 'class_name': 'Hazelnut Praline'}, {'midpoint': (611.5, 3108.0), 'class_name': 'Coconut'}]\n"
     ]
    }
   ],
   "source": [
    "# Sort the list by the y-coordinate of each item's midpoint\n",
    "sorted_list = sorted(midpoints, key=lambda item: item['midpoint'][1])\n",
    "\n",
    "print(sorted_list)"
   ]
  },
  {
   "cell_type": "markdown",
   "metadata": {},
   "source": [
    "## Find relative distance from the first chocolate"
   ]
  },
  {
   "cell_type": "code",
   "execution_count": 274,
   "metadata": {},
   "outputs": [],
   "source": [
    "# Sort the list by the y-coordinate of each item's midpoint\n",
    "sorted_list = sorted(midpoints, key=lambda item: item['midpoint'][1])\n",
    "\n",
    "# Calculate the relative distance from the y-coordinate of the first item to every other item in the list\n",
    "first_item_y = sorted_list[0]['midpoint'][1]\n",
    "for item in sorted_list:\n",
    "    item['relative_distance_from_first'] = item['midpoint'][1] - first_item_y\n",
    "\n",
    "\n",
    "# Sort the items by their relative distance from the first item's y-coordinate\n",
    "sorted_data = sorted(sorted_list, key=lambda x: x['relative_distance_from_first'])\n",
    "\n"
   ]
  },
  {
   "cell_type": "markdown",
   "metadata": {},
   "source": [
    "## Using K means clustring and knowing that we have 5 rows we will group the choclates in the correct ROW"
   ]
  },
  {
   "cell_type": "code",
   "execution_count": 275,
   "metadata": {},
   "outputs": [],
   "source": [
    "\n",
    "from sklearn.cluster import KMeans\n",
    "import numpy as np\n",
    "\n",
    "# Extract relative distances for clustering\n",
    "relative_distances = np.array([item['relative_distance_from_first'] for item in sorted_data]).reshape(-1, 1)\n",
    "\n",
    "# Apply K-means clustering\n",
    "kmeans = KMeans(n_clusters=5, random_state=0).fit(relative_distances)  # You can change the number of clusters\n",
    "\n",
    "# Assign each item to a cluster\n",
    "cluster_assignments = kmeans.labels_\n",
    "\n",
    "# Attach cluster assignment to each item in sorted_data\n",
    "for item, cluster in zip(sorted_data, cluster_assignments):\n",
    "    item['cluster'] = cluster\n",
    "\n",
    "# Calculate mean distance for each cluster\n",
    "cluster_means = {i: np.mean([item['relative_distance_from_first'] for item in sorted_data if item['cluster'] == i]) for i in range(5)}\n",
    "\n",
    "# Sort clusters by their mean distances in ascending order\n",
    "sorted_clusters = sorted(cluster_means, key=cluster_means.get)\n",
    "\n",
    "# Create a mapping of old cluster labels to new labels based on ascending order of mean distances\n",
    "cluster_label_mapping = {old_label: new_label for new_label, old_label in enumerate(sorted_clusters)}\n",
    "\n",
    "# Relabel the clusters in sorted_data with the new labels\n",
    "for item in sorted_data:\n",
    "    item['cluster_label'] = cluster_label_mapping[item['cluster']]\n",
    "\n"
   ]
  },
  {
   "cell_type": "markdown",
   "metadata": {},
   "source": [
    "## Now we proceed to sort the choclates in Columns giving use a clusterd list"
   ]
  },
  {
   "cell_type": "code",
   "execution_count": 276,
   "metadata": {},
   "outputs": [],
   "source": [
    "# Function to sort items within each cluster by x-coordinate, maintaining cluster order\n",
    "def sort_items_by_cluster_and_x(sorted_data):\n",
    "    # Group items by their cluster label\n",
    "    clusters = {}\n",
    "    for item in sorted_data:\n",
    "        cluster_label = item['cluster_label']\n",
    "        if cluster_label not in clusters:\n",
    "            clusters[cluster_label] = []\n",
    "        clusters[cluster_label].append(item)\n",
    "    \n",
    "    # Within each cluster, sort items by the x-coordinate of their midpoint\n",
    "    for cluster in clusters.values():\n",
    "        cluster.sort(key=lambda x: x['midpoint'][0])\n",
    "    \n",
    "    # Flatten the sorted clusters into a single list, maintaining the cluster order\n",
    "    sorted_items = [item for cluster in sorted(clusters.keys()) for item in clusters[cluster]]\n",
    "    return sorted_items\n",
    "\n",
    "# Sort the items by cluster and then by x-coordinate within each cluster\n",
    "sorted_by_cluster_and_x = sort_items_by_cluster_and_x(sorted_data)\n",
    "\n"
   ]
  },
  {
   "cell_type": "code",
   "execution_count": 277,
   "metadata": {},
   "outputs": [],
   "source": [
    "# Initialize an empty dictionary for cluster labels and their corresponding class names\n",
    "cluster_class_names = {label: [] for label in range(5)}\n",
    "\n",
    "# Populate the dictionary with class names grouped by cluster label\n",
    "for item in sorted_by_cluster_and_x:\n",
    "    cluster_label = item['cluster_label']\n",
    "    class_name = item['class_name']\n",
    "    cluster_class_names[cluster_label].append(class_name)\n",
    "\n",
    "# Convert the dictionary to a list of lists for each cluster label\n",
    "clustered_lists = [cluster_class_names[label] for label in range(5)]\n"
   ]
  },
  {
   "cell_type": "markdown",
   "metadata": {},
   "source": [
    "## Finally we compare the expected chocolate box with the clustered list we prepared and output errors\n"
   ]
  },
  {
   "cell_type": "code",
   "execution_count": 278,
   "metadata": {},
   "outputs": [],
   "source": [
    "def identify_order_discrepancies(converted_data, expected_order):\n",
    "    # Flatten both lists to compare them easily\n",
    "    flattened_converted_data = [item for sublist in converted_data for item in sublist]\n",
    "    flattened_expected_order = [item for sublist in expected_order for item in sublist]\n",
    "    \n",
    "    errors = []  # To store the discrepancies\n",
    "    \n",
    "    # Determine the maximum length to iterate over\n",
    "    max_length = max(len(flattened_converted_data), len(flattened_expected_order))\n",
    "    \n",
    "    # Iterate over both lists and compare each item\n",
    "    for index in range(max_length):\n",
    "        try:\n",
    "            converted_item = flattened_converted_data[index]\n",
    "        except IndexError:\n",
    "            errors.append(f\"Error at index {index}: expected {flattened_expected_order[index]}, detected [Missing Item]\")\n",
    "            continue\n",
    "        \n",
    "        try:\n",
    "            expected_item = flattened_expected_order[index]\n",
    "        except IndexError:\n",
    "            errors.append(f\"Error at index {index}: expected [Extra Item], detected {converted_item}\")\n",
    "            continue\n",
    "        \n",
    "        if converted_item != expected_item:\n",
    "            errors.append(f\"Error at index {index}: expected {expected_item}, detected {converted_item}\")\n",
    "    \n",
    "    # Return errors if any, else confirm match\n",
    "    return errors if errors else \"Items match expected order.\"\n"
   ]
  },
  {
   "cell_type": "code",
   "execution_count": 279,
   "metadata": {},
   "outputs": [
    {
     "data": {
      "text/plain": [
       "['Error at index 11: expected Vanilla Frappe, detected Golden Fudge',\n",
       " 'Error at index 12: expected Golden Fudge, detected Vanilla Frappe']"
      ]
     },
     "execution_count": 279,
     "metadata": {},
     "output_type": "execute_result"
    }
   ],
   "source": [
    "identify_order_discrepancies(clustered_lists,expected_order)"
   ]
  },
  {
   "cell_type": "code",
   "execution_count": null,
   "metadata": {},
   "outputs": [],
   "source": []
  },
  {
   "cell_type": "code",
   "execution_count": null,
   "metadata": {},
   "outputs": [],
   "source": []
  },
  {
   "cell_type": "code",
   "execution_count": null,
   "metadata": {},
   "outputs": [],
   "source": []
  }
 ],
 "metadata": {
  "kernelspec": {
   "display_name": "transformers2",
   "language": "python",
   "name": "python3"
  },
  "language_info": {
   "codemirror_mode": {
    "name": "ipython",
    "version": 3
   },
   "file_extension": ".py",
   "mimetype": "text/x-python",
   "name": "python",
   "nbconvert_exporter": "python",
   "pygments_lexer": "ipython3",
   "version": "3.10.13"
  }
 },
 "nbformat": 4,
 "nbformat_minor": 2
}
